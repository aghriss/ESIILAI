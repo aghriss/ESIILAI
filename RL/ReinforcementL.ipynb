{
 "cells": [
  {
   "cell_type": "markdown",
   "id": "ae9c3e06",
   "metadata": {},
   "source": [
    "# Deep Q-Learning\n",
    "\n",
    "We'll start first by explaining two elements of Markov Decision Process (MDP): policy $\\pi$ and its state-action functions $Q_\\pi$.\n"
   ]
  },
  {
   "cell_type": "code",
   "execution_count": 1,
   "id": "b7175f26",
   "metadata": {
    "ExecuteTime": {
     "end_time": "2023-11-09T17:32:07.164552958Z",
     "start_time": "2023-11-09T17:32:06.707485183Z"
    }
   },
   "outputs": [],
   "source": [
    "import numpy as np\n",
    "import matplotlib.pyplot as plt\n",
    "import tqdm.notebook\n",
    "from grid import GRID, ACTIONS_NAMES\n",
    "from IPython.display import HTML\n",
    "from base64 import b64encode\n",
    "\n",
    "plt.rcParams[\"animation.html\"] = \"jshtml\"\n",
    "plt.rcParams['figure.dpi'] = 100\n"
   ]
  },
  {
   "cell_type": "code",
   "execution_count": 2,
   "id": "bfbc9dff",
   "metadata": {
    "ExecuteTime": {
     "end_time": "2023-11-09T17:32:07.267272582Z",
     "start_time": "2023-11-09T17:32:07.189074871Z"
    }
   },
   "outputs": [
    {
     "data": {
      "text/plain": "<Figure size 640x480 with 1 Axes>",
      "image/png": "[encoded data removed]"
     },
     "metadata": {},
     "output_type": "display_data"
    }
   ],
   "source": [
    "environment = GRID(grid_size=16, max_time=2000)\n",
    "environment.reset()\n",
    "environment.render()"
   ]
  },
  {
   "cell_type": "markdown",
   "id": "e8f927ff",
   "metadata": {},
   "source": [
    "\n",
    "We'll be using a _4-rooms_ environment where the goal of the agent (white square) is to reach the target (red square).\n",
    "The grid is 16 by 16, so there are 256 states. Not all the states are accessible, since the agent can't cross the blue walls.\n",
    "Each state $s$ is represented as a tuple $(x_s, y_s)$ that reflects the position of the agent.\n",
    "\n",
    "There are 4 possible actions at each state (clockwise): Up (0), Right(1), Down(2), Left(3).\n",
    "The agent gets a penalty (reward = -1) if it hits the blue walls and a reward = 1 if it reaches the target.\n",
    "The episode ends (game over) when the target is reached or the agent has taken 2000 steps.\n",
    "\n",
    "We will be using Q-learning to find a good policy that will allow us to reach the target before the time runs out.\n",
    "\n",
    "At step $t$, the agent is located at state $s_t$ and chooses an action $a_t = \\pi(s_t)$ following the policy $\\pi$\n",
    "\n",
    "The agent then gets reward $r_t$ and moves to state $s_{t+1}$. The process repeats until we reach a final state $s_T$ (`game_over == True`)\n",
    "\n",
    "We'll call a replay a sequence of tuples $(s_t, a_t, r_t, s_{t+1})$."
   ]
  },
  {
   "cell_type": "code",
   "execution_count": 3,
   "id": "f8a65dd7",
   "metadata": {
    "ExecuteTime": {
     "end_time": "2023-11-09T17:32:07.343119486Z",
     "start_time": "2023-11-09T17:32:07.280017417Z"
    }
   },
   "outputs": [
    {
     "name": "stdout",
     "output_type": "stream",
     "text": [
      "Initial state:(3, 3)\n",
      "Took action: Down\n",
      "New state: (4, 3)\n",
      "Reward: 0\n",
      "Game over:False\n"
     ]
    },
    {
     "data": {
      "text/plain": "<Figure size 640x480 with 1 Axes>",
      "image/png": "[encoded data removed]"
     },
     "metadata": {},
     "output_type": "display_data"
    }
   ],
   "source": [
    "# How to create a replay with one element\n",
    "# repeat as long as game_over is false\n",
    "replay = []\n",
    "current_state = environment.reset()\n",
    "action = 2\n",
    "print(\"Initial state:{}\".format(current_state))\n",
    "new_state, reward, game_over = environment.step(action)  # down\n",
    "replay.append((current_state, action, reward, new_state))\n",
    "current_state = new_state\n",
    "print(\"Took action: {}\".format(ACTIONS_NAMES[action]))\n",
    "print(\"New state: {}\\nReward: {}\\nGame over:{}\".format(new_state, reward, game_over))\n",
    "environment.render()"
   ]
  },
  {
   "cell_type": "markdown",
   "id": "6bdebfa7",
   "metadata": {},
   "source": [
    "Starting at time $t=0$, The agent's goal is to maximize the expected discounted rewards:\n",
    "\\begin{align}\n",
    "\\eta_\\pi = \\sum_{t | a_t =\\pi(s_t)} \\gamma^t r_t\n",
    "\\end{align}\n",
    "$0<\\gamma<1$ is the discount rate. We'll be using $\\gamma = 0.95$\n",
    "\n",
    "The main role of discounting the rewards is to motivate the agent to achieve the goal as early as possible (no procrastination).\n",
    "\n",
    "It makes reaching the goal at $t=1$, for example, more desirable than at $t=100$: $r_1=1$ contributes $\\gamma^1 =0.95$ while $r_{100} = 1$ will only count as $\\gamma^{100} =0.006$ in $\\eta_\\pi$.\n",
    "\n",
    "$Q_\\pi(s_t, a_t)$ is defined as the expected discounted rewards if we start at state $s_t$, take an initial actions $a_t$, and\n",
    "follow the policy $\\pi$ to decide the remaining action $(a_{t+1},..... a_{T-1})$.\n",
    "\n",
    "\\begin{align}\n",
    "Q_\\pi(s,a) = \\eta_\\pi, \\text{ such that } s_0 = s \\text{ and } a_0 = a\n",
    "\\end{align}\n",
    "\n",
    "The principle behind Q-learning, as the name suggests, is to learn the optimal $Q^*$.\n",
    "Since at each instant $t$, we want to pick the action that yields the best expected rewards, the optimal policy $\\pi^*$ would be:\n",
    "\\begin{align}\n",
    "\\pi^*(s) = \\arg\\max_a Q^*(s, a)\n",
    "\\end{align}\n",
    "\n",
    "__So how do we learn the optimal $Q^*$?__\n",
    "\n",
    "By exploring the environment and saving a replay $\\text{Replay} = \\{(s_t, a_t, r_t, s_{t+1})| t\\leq T\\}$ (one that reaches the goal, hopefully),\n",
    "\n",
    "we can use _Bellman equations_ to update our estimate of the $Q$ function in the following way:\n",
    "\\begin{align}\n",
    "Q_{new}(s_t, a_t) \\leftarrow r_t + \\gamma \\max_a Q_{old}(s_{t+1}, a), \\;\\;\\; \\forall \\; (s_t, a_t, r_t, s_{t+1})\\in \\text{Replay}\n",
    "\\end{align}\n",
    "\n",
    "We can prove that repeating this update will make our estimate converge to a unique optimal state-action value function $Q^*$.\n",
    "\n",
    "Instead of \"brutally\" updating Q, we'll use a learning rate $\\alpha$, so that the update would be :\n",
    "\\begin{align}\n",
    "Q_{new}(s_t, a_t) \\leftarrow  (1-\\alpha)Q_{old}(s_t, a_t) + \\alpha\\big[r_t + \\gamma \\max_a Q_{old}(s_{t+1}, a) \\big]\n",
    "\\end{align}\n",
    "\n",
    "In this first part, we'll use an array `Q` of shape (16 x 16 x 4) to store $Q$, and the value $Q(s,a)$ would be accessed via `Q[x_s, y_s, a]`.\n",
    "\n",
    "- **[Q]** Complete the class method `TabularQ.update` to apply _Bellman_ updates provided a replay"
   ]
  },
  {
   "cell_type": "code",
   "execution_count": 4,
   "id": "060f1a00",
   "metadata": {
    "nbgrader": {
     "grade": true,
     "grade_id": "tabular_q",
     "locked": false,
     "points": 0,
     "schema_version": 3,
     "solution": true,
     "task": false
    },
    "ExecuteTime": {
     "end_time": "2023-11-09T17:32:07.387658710Z",
     "start_time": "2023-11-09T17:32:07.343490269Z"
    }
   },
   "outputs": [],
   "source": [
    "class TabularQ:\n",
    "    def __init__(self, gamma=0.95, learning_rate=0.01):\n",
    "        self.Q = np.zeros((16, 16, 4))\n",
    "        self.gamma = gamma\n",
    "        self.alpha = learning_rate\n",
    "\n",
    "    def update(self, replay):\n",
    "        for s_t, a_t, r_t, s_t_p_1 in replay:\n",
    "            # Workspace 4.1\n",
    "            #BEGIN\n",
    "            s_x, s_y = s_t\n",
    "            s_p_x, s_p_y = s_t_p_1\n",
    "            self.Q[s_x, s_y, a_t] *= (1 - self.alpha)\n",
    "            self.Q[s_x, s_y, a_t] += self.alpha * (r_t + self.gamma * np.max(self.Q[s_p_x, s_p_y]))\n",
    "            #END\n",
    "\n",
    "    def best_action(self, s):\n",
    "        action = np.argmax(self.Q[s[0], s[1]])\n",
    "        return action\n",
    "\n",
    "    def save(self, checkpoint_name):\n",
    "        np.savez_compressed(checkpoint_name, Q=self.Q)\n",
    "\n",
    "    def load(self, checkpoint_name):\n",
    "        self.Q = np.load(checkpoint_name +\".npz\" )[\"Q\"]\n",
    "\n",
    "class Policy():\n",
    "\n",
    "    def __init__(self, Q, epsilon=1):\n",
    "        self.Q = Q\n",
    "        self.epsilon = epsilon\n",
    "\n",
    "    def act(self, state):\n",
    "        if np.random.uniform(0, 1) <= self.epsilon:\n",
    "            return np.random.choice([0, 1, 2, 3])\n",
    "        else:\n",
    "            return self.Q.best_action(state)"
   ]
  },
  {
   "cell_type": "markdown",
   "id": "1bc92203",
   "metadata": {},
   "source": [
    "Now we have to address a different question: when we explore the environment, how should we choose the actions?\n",
    "\n",
    "One approach is to follow a $\\epsilon$-greedy policy, where we choose a random action with probability $\\epsilon$ and the best action according to Q with probability $1-\\epsilon$.\n",
    "\n",
    "For instance, if $\\epsilon=1$, all actions are chosen randomly. For $\\epsilon=0$, all actions are chosen _greedily_.\n",
    "A common practice is to start with $\\epsilon=1$ and decay it to 0 as we generate replays. How fast we decay it is related to the famous _exploration-exploitation_ dilemma in Reinforcement Learning.\n",
    "\n",
    "**[Q]** Complete the cell below to generate replays and update `tabular_Q` for `n_episodes`. You're free to choose your own decaying rate for $epsilon$ (including a 0 decay)\n"
   ]
  },
  {
   "cell_type": "code",
   "execution_count": 5,
   "id": "396ea10c",
   "metadata": {
    "nbgrader": {
     "grade": true,
     "grade_id": "cell-75677e505789da07",
     "locked": false,
     "points": 0,
     "schema_version": 3,
     "solution": true,
     "task": false
    },
    "ExecuteTime": {
     "end_time": "2023-11-09T17:32:11.846925979Z",
     "start_time": "2023-11-09T17:32:07.387524709Z"
    }
   },
   "outputs": [],
   "source": [
    "tabular_Q = TabularQ()\n",
    "n_episodes = 20\n",
    "greedy_policy = Policy(tabular_Q, epsilon=1.0)\n",
    "decay = 0.995\n",
    "def play(environment, policy):\n",
    "    # Returns one episode's replay and the total accumulated rewards\n",
    "    replay = []\n",
    "    current_state = environment.reset()\n",
    "    game_over = False\n",
    "    total_rewards = 0\n",
    "    while not game_over:\n",
    "        action = policy.act(current_state)\n",
    "        new_state, reward, game_over = environment.step(action)\n",
    "        replay.append((current_state, action, reward, new_state))\n",
    "        current_state = new_state\n",
    "        total_rewards += reward\n",
    "    return replay, total_rewards\n",
    "\n",
    "for _ in range(n_episodes):\n",
    "    # Workspace 4.2\n",
    "    #BEGIN\n",
    "    tabular_Q.update(play(environment, greedy_policy)[0])\n",
    "    greedy_policy.epsilon *= decay\n",
    "    #END"
   ]
  },
  {
   "cell_type": "code",
   "execution_count": 6,
   "outputs": [],
   "source": [
    "\n",
    "def save_frames(frames, target_mp4):\n",
    "    import imageio\n",
    "    imageio.mimwrite('{}.mp4'.format(target_mp4), np.array(frames, dtype=\"uint8\"), fps=30)\n",
    "\n",
    "\n",
    "def evaluate_policy(policy, target_mp4, random=False, n_episodes=10):\n",
    "    env = GRID(random=False, max_time=100)\n",
    "    frames = []\n",
    "    for _ in tqdm.notebook.tqdm(range(n_episodes)):\n",
    "        state = env.reset()\n",
    "        game_over = False\n",
    "        while not game_over:\n",
    "            action = policy.act(state)\n",
    "            state, _, game_over = env.step(policy.act(state))\n",
    "        frames += env.episode\n",
    "    save_frames(frames, \"multi_episodes\")\n",
    "\n",
    "\n",
    "def display_video(target_mp4):\n",
    "    mp4 = open('{}.mp4'.format(target_mp4), 'rb').read()\n",
    "    data_url = \"data:video/mp4;base64,\" + b64encode(mp4).decode()\n",
    "    return HTML(\"\"\"\n",
    "        <video width=320 controls>\n",
    "            <source src=\"%s\" type=\"video/mp4\">\n",
    "        </video>\n",
    "        \"\"\" % data_url)"
   ],
   "metadata": {
    "collapsed": false,
    "ExecuteTime": {
     "end_time": "2023-11-09T17:32:11.852054831Z",
     "start_time": "2023-11-09T17:32:11.849817141Z"
    }
   },
   "id": "357f0b8e716d452f"
  },
  {
   "cell_type": "markdown",
   "id": "97bb4432",
   "metadata": {},
   "source": [
    "Now let's examine how the agent behaves a following random policy vs our Q-learning policy.\n",
    "\n",
    "You should notice that if you run Q-learning multiple times, you might get different policies (different ways to reach the target) : we've mentioned before that $Q^*$ is unique, it's not the case for $\\pi^*$"
   ]
  },
  {
   "cell_type": "code",
   "execution_count": 7,
   "id": "98f34543",
   "metadata": {
    "ExecuteTime": {
     "end_time": "2023-11-09T17:32:12.131463198Z",
     "start_time": "2023-11-09T17:32:11.852150883Z"
    }
   },
   "outputs": [
    {
     "data": {
      "text/plain": "<IPython.core.display.HTML object>",
      "text/html": "\n        <video width=320 controls>\n            <source src=\"data:video/mp4;base64,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\" type=\"video/mp4\">\n        </video>\n        "
     },
     "execution_count": 7,
     "metadata": {},
     "output_type": "execute_result"
    }
   ],
   "source": [
    "_ = play(environment, Policy(tabular_Q, epsilon=1.0)) # completely random policy\n",
    "save_frames(environment.episode, target_mp4=\"uniform\") # saves the episode to uniform.mp4\n",
    "display_video(\"uniform\") # display uniform.mp4"
   ]
  },
  {
   "cell_type": "code",
   "execution_count": 8,
   "id": "713245e9",
   "metadata": {
    "ExecuteTime": {
     "end_time": "2023-11-09T17:32:12.164158846Z",
     "start_time": "2023-11-09T17:32:12.126611421Z"
    }
   },
   "outputs": [
    {
     "data": {
      "text/plain": "<IPython.core.display.HTML object>",
      "text/html": "\n        <video width=320 controls>\n            <source src=\"data:video/mp4;base64,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\" type=\"video/mp4\">\n        </video>\n        "
     },
     "execution_count": 8,
     "metadata": {},
     "output_type": "execute_result"
    }
   ],
   "source": [
    "_ = play(environment, Policy(tabular_Q, epsilon=0.0)) # optimal policy\n",
    "save_frames(environment.episode, target_mp4=\"best_tabular\")\n",
    "display_video(\"best_tabular\") # display uniform.mp4"
   ]
  },
  {
   "cell_type": "markdown",
   "id": "c5b2319b",
   "metadata": {},
   "source": [
    "- 4.3 **[1 point]** To get the full credit of the previous questions, you'll have to submit a zip file `q_learning.zip` that includes `uniform.mp4`, `best_tabular.mp4` from previous cells and `best_tabular.npz` from the cell below\n",
    "\n",
    "_Hint_:  If cells ran correctly, the files should appear in the same path as the notebook"
   ]
  },
  {
   "cell_type": "code",
   "execution_count": 9,
   "id": "adb375f0",
   "metadata": {
    "ExecuteTime": {
     "end_time": "2023-11-09T17:32:12.165192588Z",
     "start_time": "2023-11-09T17:32:12.161484358Z"
    }
   },
   "outputs": [],
   "source": [
    "tabular_Q.save(\"best_tabular\")"
   ]
  }
 ],
 "metadata": {
  "celltoolbar": "Create Assignment",
  "kernelspec": {
   "display_name": "Python 3 (ipykernel)",
   "language": "python",
   "name": "python3"
  },
  "language_info": {
   "codemirror_mode": {
    "name": "ipython",
    "version": 3
   },
   "file_extension": ".py",
   "mimetype": "text/x-python",
   "name": "python",
   "nbconvert_exporter": "python",
   "pygments_lexer": "ipython3",
   "version": "3.8.5"
  }
 },
 "nbformat": 4,
 "nbformat_minor": 5
}
